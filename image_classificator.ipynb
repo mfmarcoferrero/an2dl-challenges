{
  "cells": [
    {
      "cell_type": "markdown",
      "metadata": {
        "id": "rsXsEar9SLjU"
      },
      "source": [
        "# Initialization"
      ]
    },
    {
      "cell_type": "code",
      "execution_count": null,
      "metadata": {},
      "outputs": [],
      "source": [
        "cd ../AN2DL_Challenges/Challenge_1/"
      ]
    },
    {
      "cell_type": "markdown",
      "metadata": {
        "id": "DnvxMr6lmGcf"
      },
      "source": [
        "#Loading dependencies"
      ]
    },
    {
      "cell_type": "code",
      "execution_count": 30,
      "metadata": {
        "colab": {
          "base_uri": "https://localhost:8080/"
        },
        "id": "8ktsJkNLL9Fq",
        "outputId": "01baf792-5386-4fde-c855-8eb69d3ea147"
      },
      "outputs": [
        {
          "name": "stdout",
          "output_type": "stream",
          "text": [
            "2.10.0\n"
          ]
        }
      ],
      "source": [
        "\n",
        "import tensorflow as tf \n",
        "import numpy as np\n",
        "import os\n",
        "import random\n",
        "from PIL import Image # A computer vision library\n",
        "import h5py\n",
        "import psutil\n",
        "import tqdm\n",
        "import imutils\n",
        "import scipy\n",
        "import cv2\n",
        "import yaml\n",
        "import skimage\n",
        "import sklearn\n",
        "import Cython\n",
        "import seaborn \n",
        "import pandas as pd\n",
        "import seaborn as sns\n",
        "import matplotlib as mpl\n",
        "import matplotlib.pyplot as plt\n",
        "from sklearn.model_selection import train_test_split\n",
        "from sklearn.metrics import accuracy_score, f1_score, precision_score, recall_score\n",
        "from sklearn.metrics import confusion_matrix\n",
        "\n",
        "tfk = tf.keras\n",
        "tfkl = tf.keras.layers\n",
        "print(tf.__version__)"
      ]
    },
    {
      "cell_type": "markdown",
      "metadata": {
        "id": "MdD_8Vyswkwf"
      },
      "source": [
        "### Import libraries"
      ]
    },
    {
      "cell_type": "markdown",
      "metadata": {
        "id": "lPFu3AYbLCWg"
      },
      "source": [
        "\n",
        "Libraries installed in the evaluation machine:\n",
        "\n",
        "    tensorflow==2.10.0 x\n",
        "    Cython==0.29.32 \n",
        "    numpy==1.21.6 x\n",
        "    matplotlib==3.2.2\n",
        "    seaborn==0.11.2\n",
        "    scipy==1.7.3\n",
        "    scikit-learn==1.0.2\n",
        "    scikit-image==0.18.3\n",
        "    pandas==1.3.5 x\n",
        "    pyyaml==6.0\n",
        "    imutils==0.5.4\n",
        "    opencv-python==4.6.0.66\n",
        "    tqdm==4.64.1\n",
        "    psutil==5.4.8\n",
        "    h5py==3.1.0\n"
      ]
    },
    {
      "cell_type": "code",
      "execution_count": 8,
      "metadata": {
        "colab": {
          "base_uri": "https://localhost:8080/"
        },
        "id": "hHwWVPpSi0Np",
        "outputId": "16e4b040-2cb7-4810-d8fd-36d5191b8288"
      },
      "outputs": [],
      "source": [
        "# Install and import visualkeras library\n",
        "# ---> CAN'T BE USED IN THE FINAL SUBMIT\n",
        "import visualkeras"
      ]
    },
    {
      "cell_type": "markdown",
      "metadata": {
        "id": "pLb-N5JzUUQS"
      },
      "source": [
        "### Set seed for reproducibility"
      ]
    },
    {
      "cell_type": "code",
      "execution_count": 9,
      "metadata": {
        "id": "C7HYua8HUHIj"
      },
      "outputs": [],
      "source": [
        "# Random seed for reproducibility\n",
        "seed = 42\n",
        "\n",
        "random.seed(seed)\n",
        "os.environ['PYTHONHASHSEED'] = str(seed)\n",
        "np.random.seed(seed)\n",
        "tf.random.set_seed(seed)\n",
        "tf.compat.v1.set_random_seed(seed)"
      ]
    },
    {
      "cell_type": "markdown",
      "metadata": {
        "id": "BDM82PpE3VSg"
      },
      "source": [
        "### Suppress warnings"
      ]
    },
    {
      "cell_type": "code",
      "execution_count": 10,
      "metadata": {
        "id": "5fXtacjAqOIq"
      },
      "outputs": [],
      "source": [
        "import warnings\n",
        "import logging\n",
        "\n",
        "os.environ['TF_CPP_MIN_LOG_LEVEL'] = '2'\n",
        "warnings.simplefilter(action='ignore', category=FutureWarning)\n",
        "warnings.simplefilter(action='ignore', category=Warning)\n",
        "tf.get_logger().setLevel('INFO')\n",
        "tf.autograph.set_verbosity(0)\n",
        "\n",
        "tf.get_logger().setLevel(logging.ERROR)\n",
        "tf.get_logger().setLevel('ERROR')\n",
        "tf.compat.v1.logging.set_verbosity(tf.compat.v1.logging.ERROR)"
      ]
    },
    {
      "cell_type": "markdown",
      "metadata": {
        "id": "MvjjNtBV_jBQ"
      },
      "source": [
        "## Plants dataset\n",
        "\n",
        "Pictures of different kinds of plants.\n",
        "\n",
        "Class labels:\n",
        "1. \"Species1\"\n",
        "2. \"Species2\"\n",
        "3. \"Species3\"\n",
        "4. \"Species4\"\n",
        "5. \"Species5\"\n",
        "6. \"Species6\"\n",
        "7. \"Species7\"\n",
        "8. \"Species8\""
      ]
    },
    {
      "cell_type": "code",
      "execution_count": 12,
      "metadata": {
        "colab": {
          "base_uri": "https://localhost:8080/"
        },
        "id": "jSmn5M8_PyJ1",
        "outputId": "7b89cafe-4da8-4fd8-c212-581ec10dfe10"
      },
      "outputs": [],
      "source": [
        "import splitfolders\n",
        "# Dataset folder\n",
        "dataset_dir = 'training_data'"
      ]
    },
    {
      "cell_type": "code",
      "execution_count": 13,
      "metadata": {
        "colab": {
          "base_uri": "https://localhost:8080/"
        },
        "id": "xmdk3qtF89ED",
        "outputId": "3d24d0c7-d84f-45fd-ddf1-d44c68978403"
      },
      "outputs": [
        {
          "name": "stderr",
          "output_type": "stream",
          "text": [
            "Copying files: 3542 files [00:01, 1937.20 files/s]\n"
          ]
        }
      ],
      "source": [
        "splitfolders.ratio(dataset_dir, output=\"dataset\", seed=seed, ratio=(.8,.1,.1), group_prefix=None, move=True)"
      ]
    },
    {
      "cell_type": "code",
      "execution_count": 14,
      "metadata": {
        "id": "x1eHR78F_Bbc"
      },
      "outputs": [],
      "source": [
        "dataset_dir = 'dataset'\n",
        "training_dir = os.path.join(dataset_dir, 'train')\n",
        "validation_dir = os.path.join(dataset_dir, 'val')\n",
        "test_dir = os.path.join(dataset_dir, 'test')"
      ]
    },
    {
      "cell_type": "code",
      "execution_count": null,
      "metadata": {},
      "outputs": [],
      "source": [
        "# Plot example images from dataset\n",
        "labels = [\n",
        "          'Species1',   # 0\n",
        "          'Species2',   # 1\n",
        "          'Species3',   # 2\n",
        "          'Species4',   # 3\n",
        "          'Species5',   # 4\n",
        "          'Species6',   # 5\n",
        "          'Species7',   # 6\n",
        "          'Species8',   # 7\n",
        "          ]\n",
        "\n",
        "num_row = 7\n",
        "num_col = 3\n",
        "fig, axes = plt.subplots(3, 3, figsize=(2*num_row,9*num_col))\n",
        "for i in range(8):\n",
        "  if i < 8:\n",
        "    class_imgs = next(os.walk('{}/train/{}/'.format(dataset_dir, labels[i])))[2]\n",
        "    class_img = class_imgs[0]\n",
        "    img = Image.open('{}/train/{}/{}'.format(dataset_dir, labels[i], class_img))\n",
        "    ax = axes[i//num_col, i%num_col]\n",
        "    ax.imshow(np.array(img))\n",
        "    ax.set_title('{}'.format(labels[i]))\n",
        "plt.tight_layout()\n",
        "plt.show()"
      ]
    },
    {
      "cell_type": "code",
      "execution_count": 32,
      "metadata": {
        "colab": {
          "base_uri": "https://localhost:8080/"
        },
        "id": "u3_NfMXE9Ka6",
        "outputId": "eeee6a1d-8bb8-4e98-d0d6-ebde3e7456df"
      },
      "outputs": [
        {
          "name": "stdout",
          "output_type": "stream",
          "text": [
            "Found 2829 images belonging to 8 classes.\n",
            "Found 351 images belonging to 8 classes.\n",
            "Found 362 images belonging to 8 classes.\n"
          ]
        }
      ],
      "source": [
        "# Images are divided into folders, one for each class. \n",
        "# If the images are organized in such a way, we can exploit the \n",
        "# ImageDataGenerator to read them from disk.\n",
        "from tensorflow.keras.preprocessing.image import ImageDataGenerator\n",
        "\n",
        "# Create an instance of ImageDataGenerator for training, validation, and test sets\n",
        "train_data_gen = ImageDataGenerator()\n",
        "valid_data_gen = ImageDataGenerator()\n",
        "test_data_gen = ImageDataGenerator()\n",
        "\n",
        "# Obtain a data generator with the 'ImageDataGenerator.flow_from_directory' method\n",
        "train_gen = train_data_gen.flow_from_directory(directory=training_dir,\n",
        "                                               target_size=(96,96),\n",
        "                                               color_mode='rgb',\n",
        "                                               classes=None, # can be set to labels\n",
        "                                               class_mode='categorical',\n",
        "                                               batch_size=8,\n",
        "                                               shuffle=True,\n",
        "                                               seed=seed)\n",
        "valid_gen = train_data_gen.flow_from_directory(directory=validation_dir,\n",
        "                                               target_size=(96,96),\n",
        "                                               color_mode='rgb',\n",
        "                                               classes=None, # can be set to labels\n",
        "                                               class_mode='categorical',\n",
        "                                               batch_size=8,\n",
        "                                               shuffle=False,\n",
        "                                               seed=seed)\n",
        "test_gen = train_data_gen.flow_from_directory(directory=test_dir,\n",
        "                                              target_size=(96,96),\n",
        "                                              color_mode='rgb',\n",
        "                                              classes=None, # can be set to labels\n",
        "                                              class_mode='categorical',\n",
        "                                              batch_size=8,\n",
        "                                              shuffle=False,\n",
        "                                              seed=seed)"
      ]
    },
    {
      "cell_type": "code",
      "execution_count": 33,
      "metadata": {
        "colab": {
          "base_uri": "https://localhost:8080/"
        },
        "id": "IbONXqDp_WhR",
        "outputId": "e29f24fe-ad30-4c77-efed-064aa262c57a"
      },
      "outputs": [
        {
          "name": "stdout",
          "output_type": "stream",
          "text": [
            "Assigned labels\n",
            "{'Species1': 0, 'Species2': 1, 'Species3': 2, 'Species4': 3, 'Species5': 4, 'Species6': 5, 'Species7': 6, 'Species8': 7}\n",
            "\n",
            "Target classes\n",
            "[0 0 0 ... 7 7 7]\n"
          ]
        }
      ],
      "source": [
        "print(\"Assigned labels\")\n",
        "print(train_gen.class_indices)\n",
        "print()\n",
        "print(\"Target classes\")\n",
        "print(train_gen.classes)"
      ]
    },
    {
      "cell_type": "markdown",
      "metadata": {
        "id": "zoNn1tc0BstG"
      },
      "source": [
        "Set is divided into batches:\n",
        "# What is a batch ?\n",
        "The batch size is a hyperparameter that defines the number of samples to work through before updating the internal model parameters.\n",
        "\n",
        "Think of a batch as a for-loop iterating over one or more samples and making predictions. At the end of the batch, the predictions are compared to the expected output variables and an error is calculated. From this error, the update algorithm is used to improve the model, e.g. move down along the error gradient.\n",
        "\n",
        "A training dataset can be divided into one or more batches."
      ]
    },
    {
      "cell_type": "code",
      "execution_count": 34,
      "metadata": {
        "id": "5D5ln0cHVL2b"
      },
      "outputs": [],
      "source": [
        "def get_next_batch(generator):\n",
        "  batch = next(generator)\n",
        "\n",
        "  image = batch[0]\n",
        "  target = batch[1]\n",
        "\n",
        "  print(\"(Input) image shape:\", image.shape)\n",
        "  print(\"Target shape:\",target.shape)\n",
        "\n",
        "  # Visualize only the first sample\n",
        "  image = image[0]\n",
        "  target = target[0]\n",
        "  target_idx = np.argmax(target)\n",
        "  print()\n",
        "  print(\"Categorical label:\", target)\n",
        "  print(\"Label:\", target_idx)\n",
        "  print(\"Class name:\", labels[target_idx])\n",
        "  fig = plt.figure(figsize=(6, 4))\n",
        "  plt.imshow(np.uint8(image))\n",
        "\n",
        "  return batch"
      ]
    },
    {
      "cell_type": "code",
      "execution_count": 35,
      "metadata": {
        "colab": {
          "base_uri": "https://localhost:8080/",
          "height": 372
        },
        "id": "WJ6q1cJLalh7",
        "outputId": "48dc1399-9909-44b8-874f-22cfda2a2901"
      },
      "outputs": [
        {
          "name": "stdout",
          "output_type": "stream",
          "text": [
            "(Input) image shape: (8, 96, 96, 3)\n",
            "Target shape: (8, 8)\n",
            "\n",
            "Categorical label: [0. 0. 0. 1. 0. 0. 0. 0.]\n",
            "Label: 3\n",
            "Class name: Species4\n"
          ]
        },
        {
          "data": {
            "image/png": "[encoded data removed]",
            "text/plain": [
              "<Figure size 600x400 with 1 Axes>"
            ]
          },
          "metadata": {},
          "output_type": "display_data"
        }
      ],
      "source": [
        "# Get a sample from dataset and show info\n",
        "_ = get_next_batch(train_gen)"
      ]
    },
    {
      "cell_type": "markdown",
      "metadata": {
        "id": "K7eBGvBAocGL"
      },
      "source": [
        "# Training WITHOUT data augmentation"
      ]
    },
    {
      "cell_type": "code",
      "execution_count": 36,
      "metadata": {
        "colab": {
          "base_uri": "https://localhost:8080/"
        },
        "id": "QUA94y1ZoVFc",
        "outputId": "0388dbe9-9e7f-4ba8-a69a-0b7c16d4fb28"
      },
      "outputs": [
        {
          "name": "stdout",
          "output_type": "stream",
          "text": [
            "Found 2829 images belonging to 8 classes.\n",
            "Found 351 images belonging to 8 classes.\n",
            "Found 362 images belonging to 8 classes.\n"
          ]
        }
      ],
      "source": [
        "# Create an instance of ImageDataGenerator with NO Data Augmentation\n",
        "train_data_gen = ImageDataGenerator(rescale=1/96.) # rescale value is multiplied to the image\n",
        "valid_data_gen = ImageDataGenerator(rescale=1/96.)\n",
        "test_data_gen = ImageDataGenerator(rescale=1/96.)\n",
        "\n",
        "# Obtain a data generator with the 'ImageDataGenerator.flow_from_directory' method\n",
        "train_gen = train_data_gen.flow_from_directory(directory=training_dir,\n",
        "                                                           target_size=(96,96),\n",
        "                                                           color_mode='rgb',\n",
        "                                                           classes=None, # can be set to labels\n",
        "                                                           class_mode='categorical',\n",
        "                                                           batch_size=8,\n",
        "                                                           shuffle=True,\n",
        "                                                           seed=seed)\n",
        "valid_gen = valid_data_gen.flow_from_directory(directory=validation_dir,\n",
        "                                               target_size=(96,96),\n",
        "                                               color_mode='rgb',\n",
        "                                               classes=None, # can be set to labels\n",
        "                                               class_mode='categorical',\n",
        "                                               batch_size=8,\n",
        "                                               shuffle=False,\n",
        "                                               seed=seed)\n",
        "test_gen = test_data_gen.flow_from_directory(directory=test_dir,\n",
        "                                             target_size=(96,96),\n",
        "                                             color_mode='rgb',\n",
        "                                             classes=None, # can be set to labels\n",
        "                                             class_mode='categorical',\n",
        "                                             batch_size=8,\n",
        "                                             shuffle=False,\n",
        "                                             seed=seed)"
      ]
    },
    {
      "cell_type": "markdown",
      "metadata": {
        "id": "Jr9CX7CYdBg_"
      },
      "source": [
        "### Models metadata"
      ]
    },
    {
      "cell_type": "code",
      "execution_count": 52,
      "metadata": {
        "id": "7YcxBMJhl4EM"
      },
      "outputs": [],
      "source": [
        "input_shape = (96, 96, 3)\n",
        "epochs = 100"
      ]
    },
    {
      "cell_type": "markdown",
      "metadata": {
        "id": "KXmw4F0wlY0h"
      },
      "source": [
        "### CNN model"
      ]
    },
    {
      "cell_type": "code",
      "execution_count": 46,
      "metadata": {
        "id": "PkccDbv-bzKr"
      },
      "outputs": [],
      "source": [
        "def build_model(input_shape):\n",
        "\n",
        "    # Build the neural network layer by layer\n",
        "    input_layer = tfkl.Input(shape=input_shape, name='input_layer')\n",
        "\n",
        "    conv1 = tfkl.Conv2D(\n",
        "        filters=32,\n",
        "        kernel_size=3,\n",
        "        padding = 'same',\n",
        "        activation = 'relu',\n",
        "        kernel_initializer = tfk.initializers.HeUniform(seed)\n",
        "    )(input_layer)\n",
        "    pool1 = tfkl.MaxPooling2D()(conv1)\n",
        "\n",
        "    conv2 = tfkl.Conv2D(\n",
        "        filters=64,\n",
        "        kernel_size=3,\n",
        "        padding = 'same',\n",
        "        activation = 'relu',\n",
        "        kernel_initializer = tfk.initializers.HeUniform(seed)\n",
        "    )(pool1)\n",
        "    pool2 = tfkl.MaxPooling2D()(conv2)\n",
        "\n",
        "    conv3 = tfkl.Conv2D(\n",
        "        filters=128,\n",
        "        kernel_size=3,\n",
        "        padding = 'same',\n",
        "        activation = 'relu',\n",
        "        kernel_initializer = tfk.initializers.HeUniform(seed)\n",
        "    )(pool2)\n",
        "    pool3 = tfkl.MaxPooling2D()(conv3)\n",
        "\n",
        "    conv4 = tfkl.Conv2D(\n",
        "        filters=256,\n",
        "        kernel_size=3,\n",
        "        padding = 'same',\n",
        "        activation = 'relu',\n",
        "        kernel_initializer = tfk.initializers.HeUniform(seed)\n",
        "    )(pool3)\n",
        "    pool4 = tfkl.MaxPooling2D()(conv4)\n",
        "\n",
        "    conv5 = tfkl.Conv2D(\n",
        "        filters=512,\n",
        "        kernel_size=3,\n",
        "        padding = 'same',\n",
        "        activation = 'relu',\n",
        "        kernel_initializer = tfk.initializers.HeUniform(seed)\n",
        "    )(pool4)\n",
        "    pool5 = tfkl.MaxPooling2D()(conv5)\n",
        "\n",
        "    flattening_layer = tfkl.Flatten(name='Flatten')(pool5)\n",
        "    dropout = tfkl.Dropout(0.3, seed=seed)(flattening_layer)\n",
        "    classifier_layer = tfkl.Dense(units=512, name='Classifier', kernel_initializer=tfk.initializers.HeUniform(seed), activation='relu')(dropout)\n",
        "    dropout = tfkl.Dropout(0.3, seed=seed)(classifier_layer)\n",
        "    output_layer = tfkl.Dense(units=8, activation='softmax', kernel_initializer=tfk.initializers.GlorotUniform(seed), name='output_layer')(dropout)\n",
        "\n",
        "    # Connect input and output through the Model class\n",
        "    model = tfk.Model(inputs=input_layer, outputs=output_layer, name='model')\n",
        "\n",
        "    # Compile the model\n",
        "    model.compile(loss=tfk.losses.CategoricalCrossentropy(), optimizer=tfk.optimizers.Adam(), metrics='accuracy')\n",
        "\n",
        "    # Return the model\n",
        "    return model"
      ]
    },
    {
      "cell_type": "code",
      "execution_count": 45,
      "metadata": {
        "colab": {
          "base_uri": "https://localhost:8080/"
        },
        "id": "RnGGNXWY9zNF",
        "outputId": "2802363c-02b6-4208-d303-99f84e8f0e90"
      },
      "outputs": [
        {
          "name": "stdout",
          "output_type": "stream",
          "text": [
            "Looking in indexes: https://pypi.org/simple, https://us-python.pkg.dev/colab-wheels/public/simple/\n",
            "Requirement already satisfied: visualkeras in /usr/local/lib/python3.7/dist-packages (0.0.2)\n",
            "Requirement already satisfied: aggdraw>=1.3.11 in /usr/local/lib/python3.7/dist-packages (from visualkeras) (1.3.15)\n",
            "Requirement already satisfied: numpy>=1.18.1 in /usr/local/lib/python3.7/dist-packages (from visualkeras) (1.21.6)\n",
            "Requirement already satisfied: pillow>=6.2.0 in /usr/local/lib/python3.7/dist-packages (from visualkeras) (7.1.2)\n"
          ]
        }
      ],
      "source": [
        "# Download and import visualkeras library\n",
        "!pip install visualkeras\n",
        "import visualkeras"
      ]
    },
    {
      "cell_type": "code",
      "execution_count": 47,
      "metadata": {
        "colab": {
          "base_uri": "https://localhost:8080/",
          "height": 1000
        },
        "id": "NwsjIp_crOKq",
        "outputId": "239c9351-ee61-4ddc-bb7d-c9e33d45e981"
      },
      "outputs": [
        {
          "name": "stdout",
          "output_type": "stream",
          "text": [
            "Model: \"model\"\n",
            "_________________________________________________________________\n",
            " Layer (type)                Output Shape              Param #   \n",
            "=================================================================\n",
            " input_layer (InputLayer)    [(None, 96, 96, 3)]       0         \n",
            "                                                                 \n",
            " conv2d_5 (Conv2D)           (None, 96, 96, 32)        896       \n",
            "                                                                 \n",
            " max_pooling2d_5 (MaxPooling  (None, 48, 48, 32)       0         \n",
            " 2D)                                                             \n",
            "                                                                 \n",
            " conv2d_6 (Conv2D)           (None, 48, 48, 64)        18496     \n",
            "                                                                 \n",
            " max_pooling2d_6 (MaxPooling  (None, 24, 24, 64)       0         \n",
            " 2D)                                                             \n",
            "                                                                 \n",
            " conv2d_7 (Conv2D)           (None, 24, 24, 128)       73856     \n",
            "                                                                 \n",
            " max_pooling2d_7 (MaxPooling  (None, 12, 12, 128)      0         \n",
            " 2D)                                                             \n",
            "                                                                 \n",
            " conv2d_8 (Conv2D)           (None, 12, 12, 256)       295168    \n",
            "                                                                 \n",
            " max_pooling2d_8 (MaxPooling  (None, 6, 6, 256)        0         \n",
            " 2D)                                                             \n",
            "                                                                 \n",
            " conv2d_9 (Conv2D)           (None, 6, 6, 512)         1180160   \n",
            "                                                                 \n",
            " max_pooling2d_9 (MaxPooling  (None, 3, 3, 512)        0         \n",
            " 2D)                                                             \n",
            "                                                                 \n",
            " Flatten (Flatten)           (None, 4608)              0         \n",
            "                                                                 \n",
            " dropout_2 (Dropout)         (None, 4608)              0         \n",
            "                                                                 \n",
            " Classifier (Dense)          (None, 512)               2359808   \n",
            "                                                                 \n",
            " dropout_3 (Dropout)         (None, 512)               0         \n",
            "                                                                 \n",
            " output_layer (Dense)        (None, 8)                 4104      \n",
            "                                                                 \n",
            "=================================================================\n",
            "Total params: 3,932,488\n",
            "Trainable params: 3,932,488\n",
            "Non-trainable params: 0\n",
            "_________________________________________________________________\n"
          ]
        },
        {
          "data": {
            "image/png": "[encoded data removed]",
            "text/plain": [
              "<PIL.Image.Image image mode=RGBA size=1438x420>"
            ]
          },
          "execution_count": 47,
          "metadata": {},
          "output_type": "execute_result"
        }
      ],
      "source": [
        "# Build model (for NO augmentation training)\n",
        "model = build_model(input_shape)\n",
        "model.summary()\n",
        "visualkeras.layered_view(model, legend=True, spacing=10, scale_xy=3)"
      ]
    },
    {
      "cell_type": "code",
      "execution_count": 53,
      "metadata": {
        "id": "Q9nLz1TKGcCu"
      },
      "outputs": [],
      "source": [
        "# Utility function to create folders and callbacks for training\n",
        "from datetime import datetime\n",
        "\n",
        "def create_folders_and_callbacks(model_name):\n",
        "\n",
        "  exps_dir = os.path.join('data_augmentation_experiments')\n",
        "  if not os.path.exists(exps_dir):\n",
        "      os.makedirs(exps_dir)\n",
        "\n",
        "  now = datetime.now().strftime('%b%d_%H-%M-%S')\n",
        "\n",
        "  exp_dir = os.path.join(exps_dir, model_name + '_' + str(now))\n",
        "  if not os.path.exists(exp_dir):\n",
        "      os.makedirs(exp_dir)\n",
        "      \n",
        "  callbacks = []\n",
        "\n",
        "  # Model checkpoint\n",
        "  # ----------------\n",
        "  ckpt_dir = os.path.join(exp_dir, 'ckpts')\n",
        "  if not os.path.exists(ckpt_dir):\n",
        "      os.makedirs(ckpt_dir)\n",
        "\n",
        "  ckpt_callback = tf.keras.callbacks.ModelCheckpoint(filepath=os.path.join(ckpt_dir, 'cp.ckpt'), \n",
        "                                                     save_weights_only=True, # True to save only weights\n",
        "                                                     save_best_only=False) # True to save only the best epoch \n",
        "  callbacks.append(ckpt_callback)\n",
        "\n",
        "  # Visualize Learning on Tensorboard\n",
        "  # ---------------------------------\n",
        "  tb_dir = os.path.join(exp_dir, 'tb_logs')\n",
        "  if not os.path.exists(tb_dir):\n",
        "      os.makedirs(tb_dir)\n",
        "      \n",
        "  # By default shows losses and metrics for both training and validation\n",
        "  tb_callback = tf.keras.callbacks.TensorBoard(log_dir=tb_dir, \n",
        "                                               profile_batch=0,\n",
        "                                               histogram_freq=1)  # if > 0 (epochs) shows weights histograms\n",
        "  callbacks.append(tb_callback)\n",
        "\n",
        "  # Early Stopping\n",
        "  # --------------\n",
        "  es_callback = tf.keras.callbacks.EarlyStopping(monitor='val_accuracy', patience=10, restore_best_weights=True)\n",
        "  callbacks.append(es_callback)\n",
        "\n",
        "  return callbacks"
      ]
    },
    {
      "cell_type": "code",
      "execution_count": 54,
      "metadata": {
        "colab": {
          "base_uri": "https://localhost:8080/"
        },
        "id": "Hln5Up0XtOs9",
        "outputId": "68b759c3-739d-4f19-e366-451316288806"
      },
      "outputs": [
        {
          "name": "stdout",
          "output_type": "stream",
          "text": [
            "Epoch 1/100\n",
            "354/354 [==============================] - 4s 11ms/step - loss: 0.8055 - accuracy: 0.7112 - val_loss: 1.3631 - val_accuracy: 0.5299\n",
            "Epoch 2/100\n",
            "354/354 [==============================] - 4s 10ms/step - loss: 0.7237 - accuracy: 0.7367 - val_loss: 1.4988 - val_accuracy: 0.5214\n",
            "Epoch 3/100\n",
            "354/354 [==============================] - 3s 9ms/step - loss: 0.6112 - accuracy: 0.7872 - val_loss: 1.3577 - val_accuracy: 0.5926\n",
            "Epoch 4/100\n",
            "354/354 [==============================] - 3s 9ms/step - loss: 0.5113 - accuracy: 0.8066 - val_loss: 1.4428 - val_accuracy: 0.5584\n",
            "Epoch 5/100\n",
            "354/354 [==============================] - 3s 9ms/step - loss: 0.4037 - accuracy: 0.8544 - val_loss: 1.6725 - val_accuracy: 0.5442\n",
            "Epoch 6/100\n",
            "354/354 [==============================] - 3s 9ms/step - loss: 0.3805 - accuracy: 0.8738 - val_loss: 1.7174 - val_accuracy: 0.5527\n",
            "Epoch 7/100\n",
            "354/354 [==============================] - 3s 9ms/step - loss: 0.3105 - accuracy: 0.8950 - val_loss: 1.8961 - val_accuracy: 0.5670\n",
            "Epoch 8/100\n",
            "354/354 [==============================] - 3s 9ms/step - loss: 0.2405 - accuracy: 0.9198 - val_loss: 1.9996 - val_accuracy: 0.5584\n",
            "Epoch 9/100\n",
            "354/354 [==============================] - 3s 9ms/step - loss: 0.2532 - accuracy: 0.9123 - val_loss: 2.3976 - val_accuracy: 0.4729\n",
            "Epoch 10/100\n",
            "354/354 [==============================] - 3s 9ms/step - loss: 0.2547 - accuracy: 0.9166 - val_loss: 2.0241 - val_accuracy: 0.5499\n",
            "Epoch 11/100\n",
            "354/354 [==============================] - 3s 9ms/step - loss: 0.2458 - accuracy: 0.9198 - val_loss: 2.0406 - val_accuracy: 0.5527\n",
            "Epoch 12/100\n",
            "354/354 [==============================] - 3s 9ms/step - loss: 0.2534 - accuracy: 0.9222 - val_loss: 1.7263 - val_accuracy: 0.5499\n",
            "Epoch 13/100\n",
            "354/354 [==============================] - 3s 9ms/step - loss: 0.1536 - accuracy: 0.9537 - val_loss: 2.6686 - val_accuracy: 0.5670\n"
          ]
        }
      ],
      "source": [
        "# Create folders and callbacks and fit\n",
        "noaug_callbacks = create_folders_and_callbacks(model_name='CNN_NoAug')\n",
        "\n",
        "# Train the model\n",
        "history = model.fit(\n",
        "    x = train_gen,\n",
        "    epochs = epochs,\n",
        "    validation_data = valid_gen,\n",
        "    callbacks = noaug_callbacks,\n",
        ").history"
      ]
    },
    {
      "cell_type": "code",
      "execution_count": 55,
      "metadata": {
        "colab": {
          "base_uri": "https://localhost:8080/"
        },
        "id": "U6m-yQ1bug3o",
        "outputId": "54df804e-e95f-4d9d-a181-24d8f8bca53b"
      },
      "outputs": [
        {
          "name": "stderr",
          "output_type": "stream",
          "text": [
            "WARNING:absl:Found untraced functions such as _jit_compiled_convolution_op, _jit_compiled_convolution_op, _jit_compiled_convolution_op, _jit_compiled_convolution_op, _jit_compiled_convolution_op while saving (showing 5 of 5). These functions will not be directly callable after loading.\n"
          ]
        }
      ],
      "source": [
        "# Save best epoch model\n",
        "model.save(\"data_augmentation_experiments/CNN_NoAug_Best\")"
      ]
    },
    {
      "cell_type": "code",
      "execution_count": 56,
      "metadata": {
        "colab": {
          "base_uri": "https://localhost:8080/"
        },
        "id": "86GXG1T-02-t",
        "outputId": "f4aacd34-f4bd-459a-8ccd-dc849848c46c"
      },
      "outputs": [
        {
          "name": "stdout",
          "output_type": "stream",
          "text": [
            "46/46 [==============================] - 0s 5ms/step - loss: 1.3824 - accuracy: 0.5691\n",
            "\n",
            "Test metrics without data augmentation\n",
            "{'loss': 1.3823801279067993, 'accuracy': 0.5690608024597168}\n"
          ]
        }
      ],
      "source": [
        "# Evaluate on test\n",
        "# Trainined with no data augmentation\n",
        "model_noaug = tfk.models.load_model(\"data_augmentation_experiments/CNN_NoAug_Best\")\n",
        "model_noaug_test_metrics = model_noaug.evaluate(test_gen, return_dict=True)\n",
        "# Trained with data augmentation\n",
        "# model_aug = tfk.models.load_model(\"data_augmentation_experiments/CNN_Aug_Best\")\n",
        "# model_aug_test_metrics = model_aug.evaluate(test_gen, return_dict=True)\n",
        "\n",
        "print()\n",
        "print(\"Test metrics without data augmentation\")\n",
        "print(model_noaug_test_metrics)\n",
        "# print(\"Test metrics with data augmentation\")\n",
        "# print(model_aug_test_metrics)"
      ]
    }
  ],
  "metadata": {
    "colab": {
      "collapsed_sections": [],
      "provenance": []
    },
    "kernelspec": {
      "display_name": "Python 3.11.0 64-bit",
      "language": "python",
      "name": "python3"
    },
    "language_info": {
      "codemirror_mode": {
        "name": "ipython",
        "version": 3
      },
      "file_extension": ".py",
      "mimetype": "text/x-python",
      "name": "python",
      "nbconvert_exporter": "python",
      "pygments_lexer": "ipython3",
      "version": "3.11.0"
    },
    "vscode": {
      "interpreter": {
        "hash": "b92c64ddd97bd75b75879c676e53789d19cf25aafb287fcc8a3273f02b13a1d2"
      }
    }
  },
  "nbformat": 4,
  "nbformat_minor": 0
}
