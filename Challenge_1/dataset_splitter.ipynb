{
 "cells": [
  {
   "cell_type": "code",
   "execution_count": 1,
   "metadata": {},
   "outputs": [],
   "source": [
    "import splitfolders\n",
    "import os\n",
    "import random"
   ]
  },
  {
   "cell_type": "code",
   "execution_count": 2,
   "metadata": {},
   "outputs": [],
   "source": [
    "# Random seed for reproducibility\n",
    "seed = 42\n",
    "\n",
    "random.seed(seed)\n",
    "os.environ['PYTHONHASHSEED'] = str(seed)"
   ]
  },
  {
   "cell_type": "code",
   "execution_count": 12,
   "metadata": {},
   "outputs": [
    {
     "name": "stdout",
     "output_type": "stream",
     "text": [
      "splitting\n"
     ]
    },
    {
     "name": "stderr",
     "output_type": "stream",
     "text": [
      "Copying files: 3542 files [01:51, 31.64 files/s]\n"
     ]
    }
   ],
   "source": [
    "if not(os.path.exists('../datasetTEST')) :\n",
    "    print('splitting')\n",
    "    splitfolders.ratio(\"training_data_final\", output=\"datasetTEST\",seed=1337, ratio=(.8, .15, .05))"
   ]
  },
  {
   "cell_type": "code",
   "execution_count": 13,
   "metadata": {},
   "outputs": [
    {
     "name": "stdout",
     "output_type": "stream",
     "text": [
      "splitting\n"
     ]
    },
    {
     "name": "stderr",
     "output_type": "stream",
     "text": [
      "Copying files: 3542 files [00:14, 237.88 files/s]\n"
     ]
    }
   ],
   "source": [
    "if not(os.path.exists('../datasetNOTEST')) :\n",
    "    print('splitting')\n",
    "    splitfolders.ratio(\"training_data_final\", output=\"datasetNOTEST\",seed=1337, ratio=(.8, .2))"
   ]
  }
 ],
 "metadata": {
  "kernelspec": {
   "display_name": "Python 3.9.13 ('tf')",
   "language": "python",
   "name": "python3"
  },
  "language_info": {
   "codemirror_mode": {
    "name": "ipython",
    "version": 3
   },
   "file_extension": ".py",
   "mimetype": "text/x-python",
   "name": "python",
   "nbconvert_exporter": "python",
   "pygments_lexer": "ipython3",
   "version": "3.9.13"
  },
  "orig_nbformat": 4,
  "vscode": {
   "interpreter": {
    "hash": "d3290ac40e0d8af326e9fa8b5af1332b8130b7bdc681180ec5173f972b61b017"
   }
  }
 },
 "nbformat": 4,
 "nbformat_minor": 2
}
